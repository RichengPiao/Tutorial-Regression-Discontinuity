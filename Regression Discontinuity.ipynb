{
 "cells": [
  {
   "cell_type": "code",
   "execution_count": 19,
   "metadata": {},
   "outputs": [],
   "source": [
    "# import library\n",
    "import pandas as pd\n",
    "import numpy as np\n",
    "import statsmodels.formula.api as smf "
   ]
  },
  {
   "cell_type": "code",
   "execution_count": 18,
   "metadata": {},
   "outputs": [
    {
     "data": {
      "text/html": [
       "<div>\n",
       "<style scoped>\n",
       "    .dataframe tbody tr th:only-of-type {\n",
       "        vertical-align: middle;\n",
       "    }\n",
       "\n",
       "    .dataframe tbody tr th {\n",
       "        vertical-align: top;\n",
       "    }\n",
       "\n",
       "    .dataframe thead th {\n",
       "        text-align: right;\n",
       "    }\n",
       "</style>\n",
       "<table border=\"1\" class=\"dataframe\">\n",
       "  <thead>\n",
       "    <tr style=\"text-align: right;\">\n",
       "      <th></th>\n",
       "      <th>agecell</th>\n",
       "      <th>all</th>\n",
       "      <th>allfitted</th>\n",
       "      <th>internal</th>\n",
       "      <th>internalfitted</th>\n",
       "      <th>external</th>\n",
       "      <th>externalfitted</th>\n",
       "      <th>alcohol</th>\n",
       "      <th>alcoholfitted</th>\n",
       "      <th>homicide</th>\n",
       "      <th>homicidefitted</th>\n",
       "      <th>suicide</th>\n",
       "      <th>suicidefitted</th>\n",
       "      <th>mva</th>\n",
       "      <th>mvafitted</th>\n",
       "      <th>drugs</th>\n",
       "      <th>drugsfitted</th>\n",
       "      <th>externalother</th>\n",
       "      <th>externalotherfitted</th>\n",
       "    </tr>\n",
       "  </thead>\n",
       "  <tbody>\n",
       "    <tr>\n",
       "      <th>0</th>\n",
       "      <td>19.068493</td>\n",
       "      <td>92.825401</td>\n",
       "      <td>91.706146</td>\n",
       "      <td>16.617590</td>\n",
       "      <td>16.738131</td>\n",
       "      <td>76.207817</td>\n",
       "      <td>74.968010</td>\n",
       "      <td>0.639138</td>\n",
       "      <td>0.794344</td>\n",
       "      <td>16.316818</td>\n",
       "      <td>16.284573</td>\n",
       "      <td>11.203714</td>\n",
       "      <td>11.592100</td>\n",
       "      <td>35.829327</td>\n",
       "      <td>34.817780</td>\n",
       "      <td>3.872425</td>\n",
       "      <td>3.448835</td>\n",
       "      <td>8.534373</td>\n",
       "      <td>8.388236</td>\n",
       "    </tr>\n",
       "    <tr>\n",
       "      <th>1</th>\n",
       "      <td>19.150684</td>\n",
       "      <td>95.100739</td>\n",
       "      <td>91.883720</td>\n",
       "      <td>18.327684</td>\n",
       "      <td>16.920654</td>\n",
       "      <td>76.773056</td>\n",
       "      <td>74.963066</td>\n",
       "      <td>0.677409</td>\n",
       "      <td>0.837575</td>\n",
       "      <td>16.859964</td>\n",
       "      <td>16.270697</td>\n",
       "      <td>12.193368</td>\n",
       "      <td>11.593611</td>\n",
       "      <td>35.639256</td>\n",
       "      <td>34.633888</td>\n",
       "      <td>3.236511</td>\n",
       "      <td>3.470022</td>\n",
       "      <td>8.655786</td>\n",
       "      <td>8.530174</td>\n",
       "    </tr>\n",
       "    <tr>\n",
       "      <th>2</th>\n",
       "      <td>19.232876</td>\n",
       "      <td>92.144295</td>\n",
       "      <td>92.049065</td>\n",
       "      <td>18.911053</td>\n",
       "      <td>17.098843</td>\n",
       "      <td>73.233238</td>\n",
       "      <td>74.950226</td>\n",
       "      <td>0.866443</td>\n",
       "      <td>0.877835</td>\n",
       "      <td>15.219254</td>\n",
       "      <td>16.262882</td>\n",
       "      <td>11.715812</td>\n",
       "      <td>11.595129</td>\n",
       "      <td>34.205650</td>\n",
       "      <td>34.446735</td>\n",
       "      <td>3.202071</td>\n",
       "      <td>3.492069</td>\n",
       "      <td>8.513741</td>\n",
       "      <td>8.662681</td>\n",
       "    </tr>\n",
       "    <tr>\n",
       "      <th>3</th>\n",
       "      <td>19.315069</td>\n",
       "      <td>88.427757</td>\n",
       "      <td>92.202141</td>\n",
       "      <td>16.101770</td>\n",
       "      <td>17.272680</td>\n",
       "      <td>72.325981</td>\n",
       "      <td>74.929466</td>\n",
       "      <td>0.867308</td>\n",
       "      <td>0.915115</td>\n",
       "      <td>16.742825</td>\n",
       "      <td>16.261148</td>\n",
       "      <td>11.275010</td>\n",
       "      <td>11.596655</td>\n",
       "      <td>32.278957</td>\n",
       "      <td>34.256302</td>\n",
       "      <td>3.280689</td>\n",
       "      <td>3.514980</td>\n",
       "      <td>8.258285</td>\n",
       "      <td>8.785728</td>\n",
       "    </tr>\n",
       "    <tr>\n",
       "      <th>4</th>\n",
       "      <td>19.397261</td>\n",
       "      <td>88.704941</td>\n",
       "      <td>92.342918</td>\n",
       "      <td>17.363520</td>\n",
       "      <td>17.442156</td>\n",
       "      <td>71.341415</td>\n",
       "      <td>74.900757</td>\n",
       "      <td>1.019163</td>\n",
       "      <td>0.949407</td>\n",
       "      <td>14.947726</td>\n",
       "      <td>16.265511</td>\n",
       "      <td>10.984314</td>\n",
       "      <td>11.598189</td>\n",
       "      <td>32.650967</td>\n",
       "      <td>34.062588</td>\n",
       "      <td>3.548198</td>\n",
       "      <td>3.538755</td>\n",
       "      <td>8.417533</td>\n",
       "      <td>8.899288</td>\n",
       "    </tr>\n",
       "  </tbody>\n",
       "</table>\n",
       "</div>"
      ],
      "text/plain": [
       "     agecell        all  allfitted   internal  internalfitted   external  \\\n",
       "0  19.068493  92.825401  91.706146  16.617590       16.738131  76.207817   \n",
       "1  19.150684  95.100739  91.883720  18.327684       16.920654  76.773056   \n",
       "2  19.232876  92.144295  92.049065  18.911053       17.098843  73.233238   \n",
       "3  19.315069  88.427757  92.202141  16.101770       17.272680  72.325981   \n",
       "4  19.397261  88.704941  92.342918  17.363520       17.442156  71.341415   \n",
       "\n",
       "   externalfitted   alcohol  alcoholfitted   homicide  homicidefitted  \\\n",
       "0       74.968010  0.639138       0.794344  16.316818       16.284573   \n",
       "1       74.963066  0.677409       0.837575  16.859964       16.270697   \n",
       "2       74.950226  0.866443       0.877835  15.219254       16.262882   \n",
       "3       74.929466  0.867308       0.915115  16.742825       16.261148   \n",
       "4       74.900757  1.019163       0.949407  14.947726       16.265511   \n",
       "\n",
       "     suicide  suicidefitted        mva  mvafitted     drugs  drugsfitted  \\\n",
       "0  11.203714      11.592100  35.829327  34.817780  3.872425     3.448835   \n",
       "1  12.193368      11.593611  35.639256  34.633888  3.236511     3.470022   \n",
       "2  11.715812      11.595129  34.205650  34.446735  3.202071     3.492069   \n",
       "3  11.275010      11.596655  32.278957  34.256302  3.280689     3.514980   \n",
       "4  10.984314      11.598189  32.650967  34.062588  3.548198     3.538755   \n",
       "\n",
       "   externalother  externalotherfitted  \n",
       "0       8.534373             8.388236  \n",
       "1       8.655786             8.530174  \n",
       "2       8.513741             8.662681  \n",
       "3       8.258285             8.785728  \n",
       "4       8.417533             8.899288  "
      ]
     },
     "execution_count": 18,
     "metadata": {},
     "output_type": "execute_result"
    }
   ],
   "source": [
    "# import data\n",
    "df = pd.read_csv('data.csv')\n",
    "df = df.dropna()\n",
    "df.head()"
   ]
  },
  {
   "cell_type": "code",
   "execution_count": 21,
   "metadata": {},
   "outputs": [],
   "source": [
    "# Create the treatment and control group base on age\n",
    "df['Group'] = np.where(df['agecell'] >= 21, \"Treatment\",\"Control\")\n",
    "# normalize age to help the interpertation\n",
    "df['Age'] = df['agecell'] - 21"
   ]
  },
  {
   "cell_type": "code",
   "execution_count": 22,
   "metadata": {},
   "outputs": [
    {
     "name": "stdout",
     "output_type": "stream",
     "text": [
      "                            OLS Regression Results                            \n",
      "==============================================================================\n",
      "Dep. Variable:                    all   R-squared:                       0.595\n",
      "Model:                            OLS   Adj. R-squared:                  0.577\n",
      "Method:                 Least Squares   F-statistic:                     32.55\n",
      "Date:                Tue, 07 Dec 2021   Prob (F-statistic):           1.81e-09\n",
      "Time:                        10:08:55   Log-Likelihood:                -110.41\n",
      "No. Observations:                  48   AIC:                             226.8\n",
      "Df Residuals:                      45   BIC:                             232.4\n",
      "Df Model:                           2                                         \n",
      "Covariance Type:                  HC1                                         \n",
      "=========================================================================================\n",
      "                            coef    std err          z      P>|z|      [0.025      0.975]\n",
      "-----------------------------------------------------------------------------------------\n",
      "Intercept                91.8414      0.709    129.529      0.000      90.452      93.231\n",
      "C(Group)[T.Treatment]     7.6627      1.514      5.060      0.000       4.695      10.631\n",
      "Age                      -0.9747      0.664     -1.468      0.142      -2.276       0.326\n",
      "==============================================================================\n",
      "Omnibus:                        0.189   Durbin-Watson:                   1.617\n",
      "Prob(Omnibus):                  0.910   Jarque-Bera (JB):                0.194\n",
      "Skew:                           0.131   Prob(JB):                        0.907\n",
      "Kurtosis:                       2.831   Cond. No.                         6.07\n",
      "==============================================================================\n",
      "\n",
      "Notes:\n",
      "[1] Standard Errors are heteroscedasticity robust (HC1)\n"
     ]
    }
   ],
   "source": [
    "rd = \"all ~ 1 + C(Group) + Age\"\n",
    "model_ben = smf.ols(rd,df).fit(cov_type='HC1')\n",
    "print(model_ben.summary())"
   ]
  },
  {
   "cell_type": "markdown",
   "metadata": {},
   "source": [
    "# The coef. is 7.66, impact on over 21 years old on death rate is 7.66 percent. Age is not statistically significant. {Don't drop age!}"
   ]
  },
  {
   "cell_type": "markdown",
   "metadata": {},
   "source": []
  },
  {
   "cell_type": "code",
   "execution_count": 23,
   "metadata": {},
   "outputs": [
    {
     "name": "stdout",
     "output_type": "stream",
     "text": [
      "                            OLS Regression Results                            \n",
      "==============================================================================\n",
      "Dep. Variable:                    all   R-squared:                       0.682\n",
      "Model:                            OLS   Adj. R-squared:                  0.644\n",
      "Method:                 Least Squares   F-statistic:                     19.90\n",
      "Date:                Tue, 07 Dec 2021   Prob (F-statistic):           4.02e-10\n",
      "Time:                        10:13:30   Log-Likelihood:                -104.57\n",
      "No. Observations:                  48   AIC:                             221.1\n",
      "Df Residuals:                      42   BIC:                             232.4\n",
      "Df Model:                           5                                         \n",
      "Covariance Type:                  HC1                                         \n",
      "=====================================================================================================\n",
      "                                        coef    std err          z      P>|z|      [0.025      0.975]\n",
      "-----------------------------------------------------------------------------------------------------\n",
      "Intercept                            93.0729      0.780    119.333      0.000      91.544      94.602\n",
      "C(Group)[T.Treatment]                 9.5478      1.830      5.218      0.000       5.962      13.134\n",
      "Age                                  -0.8306      2.850     -0.291      0.771      -6.417       4.756\n",
      "Age:C(Group)[T.Treatment]            -6.0170      4.528     -1.329      0.184     -14.891       2.857\n",
      "I(Age ** 2)                          -0.8403      1.541     -0.545      0.585      -3.860       2.179\n",
      "I(Age ** 2):C(Group)[T.Treatment]     2.9042      2.257      1.287      0.198      -1.519       7.328\n",
      "==============================================================================\n",
      "Omnibus:                        0.040   Durbin-Watson:                   2.004\n",
      "Prob(Omnibus):                  0.980   Jarque-Bera (JB):                0.203\n",
      "Skew:                           0.049   Prob(JB):                        0.903\n",
      "Kurtosis:                       2.697   Cond. No.                         40.1\n",
      "==============================================================================\n",
      "\n",
      "Notes:\n",
      "[1] Standard Errors are heteroscedasticity robust (HC1)\n"
     ]
    }
   ],
   "source": [
    "rd_full = \"all ~ 1 + Age*C(Group) + I(Age**2)*C(Group)\"\n",
    "model_full = smf.ols(rd_full,df).fit(cov_type='HC1')\n",
    "print(model_full.summary())"
   ]
  },
  {
   "cell_type": "markdown",
   "metadata": {},
   "source": [
    "# by adding non linear terms (quadratic), we can increse the flexiability of the model."
   ]
  },
  {
   "cell_type": "code",
   "execution_count": 25,
   "metadata": {},
   "outputs": [],
   "source": [
    "df1 = df[df['agecell'] >= 20]\n",
    "df1 = df1[df1['agecell'] <= 22]"
   ]
  },
  {
   "cell_type": "code",
   "execution_count": 27,
   "metadata": {},
   "outputs": [
    {
     "name": "stdout",
     "output_type": "stream",
     "text": [
      "                            OLS Regression Results                            \n",
      "==============================================================================\n",
      "Dep. Variable:                    mva   R-squared:                       0.603\n",
      "Model:                            OLS   Adj. R-squared:                  0.493\n",
      "Method:                 Least Squares   F-statistic:                     7.672\n",
      "Date:                Tue, 07 Dec 2021   Prob (F-statistic):           0.000513\n",
      "Time:                        10:19:04   Log-Likelihood:                -36.118\n",
      "No. Observations:                  24   AIC:                             84.24\n",
      "Df Residuals:                      18   BIC:                             91.31\n",
      "Df Model:                           5                                         \n",
      "Covariance Type:                  HC1                                         \n",
      "=====================================================================================================\n",
      "                                        coef    std err          z      P>|z|      [0.025      0.975]\n",
      "-----------------------------------------------------------------------------------------------------\n",
      "Intercept                            30.1883      0.562     53.716      0.000      29.087      31.290\n",
      "C(Group)[T.Treatment]                 5.8925      1.329      4.433      0.000       3.287       8.498\n",
      "Age                                   0.6801      3.816      0.178      0.859      -6.800       8.160\n",
      "Age:C(Group)[T.Treatment]           -15.1666      6.351     -2.388      0.017     -27.614      -2.720\n",
      "I(Age ** 2)                           4.4599      4.716      0.946      0.344      -4.783      13.702\n",
      "I(Age ** 2):C(Group)[T.Treatment]     6.9652      7.053      0.988      0.323      -6.858      20.789\n",
      "==============================================================================\n",
      "Omnibus:                        0.816   Durbin-Watson:                   2.084\n",
      "Prob(Omnibus):                  0.665   Jarque-Bera (JB):                0.587\n",
      "Skew:                           0.366   Prob(JB):                        0.746\n",
      "Kurtosis:                       2.774   Cond. No.                         50.5\n",
      "==============================================================================\n",
      "\n",
      "Notes:\n",
      "[1] Standard Errors are heteroscedasticity robust (HC1)\n"
     ]
    }
   ],
   "source": [
    "rd_motor = \"mva ~ 1 + Age*C(Group) + I(Age**2)*C(Group)\"\n",
    "model_motor = smf.ols(rd_motor,df1).fit(cov_type='HC1')\n",
    "print(model_motor.summary())"
   ]
  },
  {
   "cell_type": "code",
   "execution_count": 29,
   "metadata": {},
   "outputs": [
    {
     "name": "stdout",
     "output_type": "stream",
     "text": [
      "                            OLS Regression Results                            \n",
      "==============================================================================\n",
      "Dep. Variable:                    all   R-squared:                       0.752\n",
      "Model:                            OLS   Adj. R-squared:                  0.683\n",
      "Method:                 Least Squares   F-statistic:                     15.06\n",
      "Date:                Tue, 07 Dec 2021   Prob (F-statistic):           6.85e-06\n",
      "Time:                        10:25:05   Log-Likelihood:                -50.930\n",
      "No. Observations:                  24   AIC:                             113.9\n",
      "Df Residuals:                      18   BIC:                             120.9\n",
      "Df Model:                           5                                         \n",
      "Covariance Type:                  HC1                                         \n",
      "=====================================================================================================\n",
      "                                        coef    std err          z      P>|z|      [0.025      0.975]\n",
      "-----------------------------------------------------------------------------------------------------\n",
      "Intercept                            94.3403      0.855    110.372      0.000      92.665      96.016\n",
      "C(Group)[T.Treatment]                 9.6111      2.291      4.195      0.000       5.121      14.102\n",
      "Age                                   9.3988      7.003      1.342      0.180      -4.328      23.125\n",
      "Age:C(Group)[T.Treatment]           -24.4478     11.758     -2.079      0.038     -47.492      -1.403\n",
      "I(Age ** 2)                          11.1633      8.817      1.266      0.205      -6.118      28.444\n",
      "I(Age ** 2):C(Group)[T.Treatment]    -0.8742     13.108     -0.067      0.947     -26.565      24.817\n",
      "==============================================================================\n",
      "Omnibus:                        0.314   Durbin-Watson:                   2.106\n",
      "Prob(Omnibus):                  0.855   Jarque-Bera (JB):                0.338\n",
      "Skew:                          -0.233   Prob(JB):                        0.844\n",
      "Kurtosis:                       2.651   Cond. No.                         50.5\n",
      "==============================================================================\n",
      "\n",
      "Notes:\n",
      "[1] Standard Errors are heteroscedasticity robust (HC1)\n"
     ]
    }
   ],
   "source": [
    "rd_all_20_21= \"all ~ 1 + Age*C(Group) + I(Age**2)*C(Group)\"\n",
    "model_20_21= smf.ols(rd_all_20_21,df1).fit(cov_type='HC1')\n",
    "print(model_20_21.summary())"
   ]
  },
  {
   "cell_type": "markdown",
   "metadata": {},
   "source": [
    "# The result from above should be more credible than the prevoius one, because the age gap is smaller, the control and treatment group should be more simmlar than wider one. But the trade off is bigger stander errors. (depens on the smaple size(48 vs 24?), we can choose different range of thresholds.)"
   ]
  },
  {
   "cell_type": "markdown",
   "metadata": {},
   "source": []
  }
 ],
 "metadata": {
  "interpreter": {
   "hash": "607f3383a401117d4368d2a3f9ae06e441e7aaeb9e62d8b19b580cf246dd6567"
  },
  "kernelspec": {
   "display_name": "Python 3.7.3 64-bit",
   "language": "python",
   "name": "python3"
  },
  "language_info": {
   "codemirror_mode": {
    "name": "ipython",
    "version": 3
   },
   "file_extension": ".py",
   "mimetype": "text/x-python",
   "name": "python",
   "nbconvert_exporter": "python",
   "pygments_lexer": "ipython3",
   "version": "3.7.3"
  },
  "orig_nbformat": 4
 },
 "nbformat": 4,
 "nbformat_minor": 2
}
